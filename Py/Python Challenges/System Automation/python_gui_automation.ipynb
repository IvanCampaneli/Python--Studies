{
 "cells": [
  {
   "attachments": {},
   "cell_type": "markdown",
   "metadata": {},
   "source": [
    "# Automação de Sistemas e Processos com Python\n",
    "\n",
    "### Desafio:\n",
    "\n",
    "Para controle de custos, todos os dias, seu chefe pede um relatório com todas as compras de mercadorias da empresa.\n",
    "O seu trabalho, como analista, é enviar um e-mail para ele, assim que começar a trabalhar, com o total gasto, a quantidade de produtos compradas e o preço médio dos produtos.\n",
    "\n",
    "E-mail do seu chefe: para o nosso exercício, coloque um e-mail seu como sendo o e-mail do seu chefe<br>\n",
    "Link de acesso ao sistema da empresa: https://pages.hashtagtreinamentos.com/aula1-intensivao-sistema\n",
    "\n",
    "Para resolver isso, vamos usar o pyautogui, uma biblioteca de automação de comandos do mouse e do teclado"
   ]
  },
  {
   "cell_type": "code",
   "execution_count": null,
   "metadata": {},
   "outputs": [],
   "source": [
    "import pyautogui\n",
    "from selenium import webdriver\n",
    "import smtplib\n",
    "import time\n",
    "import pytest\n",
    "\n",
    "#COMANDS\n",
    "#pyautogui.click\n",
    "#pyautogui.write\n",
    "#pyautogui.press\n",
    "#pyautogui.hotkey\n",
    "\n",
    "pyautogui.PAUSE = 1\n",
    "\n",
    "# Passo 1: Acessar o sistema da empresa\n",
    "pyautogui.press(\"win\")\n",
    "pyautogui.click(x=824, y=162)\n",
    "pyautogui.write(\"Microsoft Edge\")\n",
    "pyautogui.press(\"enter\")\n",
    "pyautogui.hotkey(\"ctrl\", \"t\")\n",
    "pyautogui.write(\"https://pages.hashtagtreinamentos.com/aula1-intensivao-sistema\")\n",
    "pyautogui.press(\"enter\")\n",
    "\n",
    "time.sleep(5)\n",
    "\n",
    "# Passo 2: Fazer login no sistema\n",
    "pyautogui.click(x=811, y=431)\n",
    "pyautogui.write(\"login\")\n",
    "\n",
    "pyautogui.click(x=883, y=532)\n",
    "pyautogui.write(\"senha123\")\n",
    "\n",
    "pyautogui.click(x=863, y=620)\n",
    "\n",
    "time.sleep(5)\n",
    "\n",
    "# Passe 3: Baixar a base de dados\n",
    "pyautogui.click(x=454, y=385)\n",
    "pyautogui.click(x=881, y=204)\n",
    "pyautogui.click(x=959, y=670)\n",
    "\n",
    "time.sleep(5)"
   ]
  },
  {
   "cell_type": "code",
   "execution_count": null,
   "metadata": {},
   "outputs": [
    {
     "name": "stdout",
     "output_type": "stream",
     "text": [
      "      CódigoCompra        Data               Fornecedor   \n",
      "0            65014  01/12/2023   Fabrica Hashtag Brasil  \\\n",
      "1            65014  01/12/2023   Fabrica Hashtag Brasil   \n",
      "2            65016  01/12/2023   Fabrica Doidona Brasil   \n",
      "3            65016  01/12/2023   Fabrica Doidona Brasil   \n",
      "4            65017  01/12/2023  Original Fábrica Brasil   \n",
      "...            ...         ...                      ...   \n",
      "4538         69996  26/12/2023        Revenda Argentina   \n",
      "4539         69996  26/12/2023        Revenda Argentina   \n",
      "4540         69996  26/12/2023        Revenda Argentina   \n",
      "4541         69997  26/12/2023   Fabrica Doidona Mexico   \n",
      "4542         69997  26/12/2023   Fabrica Doidona Mexico   \n",
      "\n",
      "                            Produto  Quantidade  ValorUnitário  ValorFinal  \n",
      "0              Óleo Motor - Linha A           5         259.00     1295.00  \n",
      "1           Kit Embreagem - Linha A           1         380.00      380.00  \n",
      "2                 Bateria - Linha A           2         479.00      958.00  \n",
      "3          Filtro de Óleo - Linha A           1          18.90       18.90  \n",
      "4         Farol Principal - Linha A           3         159.90      479.70  \n",
      "...                             ...         ...            ...         ...  \n",
      "4538         Logo Hashtag - Linha A           2          10.00       20.00  \n",
      "4539  Terminal de Direção - Linha B           4         156.40      625.60  \n",
      "4540      Farol Principal - Linha B           1         183.89      183.89  \n",
      "4541                Pneus - Linha A           1         359.91      359.91  \n",
      "4542        Kit Embreagem - Linha C           2         502.55     1005.10  \n",
      "\n",
      "[4543 rows x 7 columns]\n",
      "7254196.58\n",
      "9715\n",
      "746.7006258363356\n"
     ]
    }
   ],
   "source": [
    "# Passe 4: Calcular os indicadores\n",
    "import pandas as pd\n",
    "import pytest\n",
    "\n",
    "# importar base de dados\n",
    "arquivo = pd.read_csv(r\"C:\\Users\\ivanc\\Downloads\\Compras.csv\", sep=\";\") #r = raw\n",
    "print(arquivo)\n",
    "# calculo dos indicadores\n",
    "total_gasto = arquivo[\"ValorFinal\"].sum()\n",
    "quantidade = arquivo[\"Quantidade\"].sum()\n",
    "preco_medio = total_gasto / quantidade\n",
    "print(total_gasto)\n",
    "print(quantidade)\n",
    "print(preco_medio)"
   ]
  },
  {
   "cell_type": "code",
   "execution_count": null,
   "metadata": {},
   "outputs": [],
   "source": [
    "time.sleep(5)\n",
    "\n",
    "import pyperclip\n",
    "import pytest\n",
    "# Passe 5: Enviar o email para o destinatário\n",
    "pyautogui.hotkey(\"ctrl\", \"t\")\n",
    "pyautogui.write(\"https://outlook.live.com/mail/0/\")\n",
    "pyautogui.press(\"enter\")\n",
    "\n",
    "time.sleep(5)\n",
    "\n",
    "pyautogui.click(x=214, y=222)\n",
    "pyautogui.click(x=929, y=352)\n",
    "pyautogui.write(\"ivancampaneli.dev@hotmail.com\")\n",
    "pyautogui.press(\"tab\")\n",
    "pyautogui.press(\"tab\")\n",
    "pyperclip.copy(\"Relatório de Despesas\")\n",
    "pyautogui.hotkey(\"ctrl\", \"v\")\n",
    "pyautogui.press(\"tab\")\n",
    "texto = f\"\"\"Caro Ranieri,\n",
    "\n",
    "Espero que esta mensagem o encontre bem. Gostaria de compartilhar com você um resumo das despesas recentes. Segue abaixo o relatório detalhado:\n",
    "\n",
    "Total Gasto: R$ ${total_gasto:,.2f}\n",
    "Quantidade Total: ${quantidade:,}\n",
    "Preço Médio: R$ ${preco_medio:,.2f}\n",
    "\n",
    "Essas informações fornecem uma visão geral das despesas recentes e podem ser úteis para análise e planejamento financeiro.\n",
    "\n",
    "Se você tiver alguma dúvida ou precisar de mais informações, por favor, não hesite em entrar em contato.\n",
    "\n",
    "Atenciosamente,\n",
    "Dev Ivan Campaneli\n",
    "\"\"\"\n",
    "pyperclip.copy(texto)\n",
    "pyautogui.hotkey(\"ctrl\", \"v\")\n",
    "\n",
    "# Enviar Email\n",
    "pyautogui.hotkey(\"ctrl\", \"enter\")"
   ]
  },
  {
   "cell_type": "code",
   "execution_count": null,
   "metadata": {},
   "outputs": [
    {
     "name": "stdout",
     "output_type": "stream",
     "text": [
      "Point(x=929, y=352)\n"
     ]
    }
   ],
   "source": [
    "import pyautogui\n",
    "import time\n",
    "\n",
    "time.sleep(5)\n",
    "print(pyautogui.position())"
   ]
  }
 ],
 "metadata": {
  "kernelspec": {
   "display_name": "venv",
   "language": "python",
   "name": "python3"
  },
  "language_info": {
   "codemirror_mode": {
    "name": "ipython",
    "version": 3
   },
   "file_extension": ".py",
   "mimetype": "text/x-python",
   "name": "python",
   "nbconvert_exporter": "python",
   "pygments_lexer": "ipython3",
   "version": "3.11.3"
  },
  "orig_nbformat": 4
 },
 "nbformat": 4,
 "nbformat_minor": 2
}
