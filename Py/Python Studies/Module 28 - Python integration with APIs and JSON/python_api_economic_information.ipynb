{
 "cells": [
  {
   "attachments": {},
   "cell_type": "markdown",
   "id": "83eb68f8",
   "metadata": {},
   "source": [
    "### Alpha Vantage\n",
    "\n",
    "https://www.alphavantage.co/documentation/"
   ]
  },
  {
   "attachments": {},
   "cell_type": "markdown",
   "id": "46b1957f",
   "metadata": {},
   "source": [
    "#### Desafio: Pegando cotações semanais - JSON"
   ]
  },
  {
   "cell_type": "code",
   "execution_count": null,
   "id": "589373bd",
   "metadata": {},
   "outputs": [],
   "source": [
    "from chave import chave_api\n",
    "import requests\n",
    "\n",
    "# replace the \"demo\" apikey below with your own key from https://www.alphavantage.co/support/#api-key\n",
    "url = f'https://www.alphavantage.co/query?function=TIME_SERIES_WEEKLY_ADJUSTED&symbol=ITUB4.SAO&apikey={chave_api}'\n",
    "r = requests.get(url)\n",
    "data = r.json()\n",
    "\n",
    "print(data)"
   ]
  },
  {
   "attachments": {},
   "cell_type": "markdown",
   "id": "31bf63d0",
   "metadata": {},
   "source": [
    "#### Pegando cotações semanais - CSV"
   ]
  },
  {
   "cell_type": "code",
   "execution_count": null,
   "id": "21d22fd4",
   "metadata": {},
   "outputs": [],
   "source": [
    "import pandas as pd\n",
    "from io import StringIO\n",
    "\n",
    "# replace the \"demo\" apikey below with your own key from https://www.alphavantage.co/support/#api-key\n",
    "url = f'https://www.alphavantage.co/query?function=TIME_SERIES_WEEKLY_ADJUSTED&symbol=ITUB4.SAO&apikey={chave_api}&datatype=csv'\n",
    "r = requests.get(url)\n",
    "\n",
    "tabela = pd.read_csv(StringIO(r.text))\n",
    "display(tabela)"
   ]
  },
  {
   "attachments": {},
   "cell_type": "markdown",
   "id": "f64ff652",
   "metadata": {},
   "source": [
    "### Cotações"
   ]
  },
  {
   "cell_type": "code",
   "execution_count": null,
   "id": "a5cd7b99",
   "metadata": {},
   "outputs": [],
   "source": [
    "acoes = ['ITUB4', 'ABEV3', 'BBAS3']\n",
    "compilada = pd.DataFrame()\n",
    "\n",
    "for acao in acoes:\n",
    "    url = f'https://www.alphavantage.co/query?function=GLOBAL_QUOTE&symbol={acao}.SAO&apikey={chave_api}&datatype=csv'\n",
    "    r = requests.get(url)\n",
    "    tabela = pd.read_csv(StringIO(r.text))\n",
    "    lista_tabelas = [compilada, tabela]\n",
    "    compilada = pd.concat(lista_tabelas)\n",
    "    \n",
    "display(compilada)"
   ]
  },
  {
   "attachments": {},
   "cell_type": "markdown",
   "id": "7ec62493",
   "metadata": {},
   "source": [
    "### Encontrar ativos"
   ]
  },
  {
   "cell_type": "code",
   "execution_count": null,
   "id": "0f9de0f0",
   "metadata": {},
   "outputs": [],
   "source": [
    "url = f'https://www.alphavantage.co/query?function=SYMBOL_SEARCH&keywords=amazon&apikey={chave_api}&datatype=csv'\n",
    "r = requests.get(url)\n",
    "\n",
    "tabela = pd.read_csv(StringIO(r.text))\n",
    "display(tabela)"
   ]
  },
  {
   "attachments": {},
   "cell_type": "markdown",
   "id": "9beab6ae",
   "metadata": {},
   "source": [
    "### Informações de Resultado"
   ]
  },
  {
   "cell_type": "code",
   "execution_count": null,
   "id": "672d9f62",
   "metadata": {},
   "outputs": [],
   "source": [
    "import pprint\n",
    "\n",
    "url = f'https://www.alphavantage.co/query?function=EARNINGS&symbol=AMZN&apikey={chave_api}'\n",
    "r = requests.get(url)\n",
    "data = r.json()\n",
    "pprint.pprint(data)"
   ]
  },
  {
   "cell_type": "code",
   "execution_count": null,
   "id": "a42a883b",
   "metadata": {},
   "outputs": [],
   "source": [
    "resultado = pd.DataFrame(data['annualEarnings'])\n",
    "display(resultado)"
   ]
  }
 ],
 "metadata": {
  "kernelspec": {
   "display_name": "Python 3 (ipykernel)",
   "language": "python",
   "name": "python3"
  },
  "language_info": {
   "codemirror_mode": {
    "name": "ipython",
    "version": 3
   },
   "file_extension": ".py",
   "mimetype": "text/x-python",
   "name": "python",
   "nbconvert_exporter": "python",
   "pygments_lexer": "ipython3",
   "version": "3.9.7"
  }
 },
 "nbformat": 4,
 "nbformat_minor": 5
}
