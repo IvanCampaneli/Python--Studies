{
 "cells": [
  {
   "attachments": {},
   "cell_type": "markdown",
   "id": "ad2d00dc",
   "metadata": {},
   "source": [
    "### API IBGE\n",
    "\n",
    "https://servicodados.ibge.gov.br/api/docs\n",
    "\n",
    "### Desafio: Coletar informações"
   ]
  },
  {
   "cell_type": "code",
   "execution_count": 10,
   "id": "17ec9d9f",
   "metadata": {},
   "outputs": [
    {
     "name": "stdout",
     "output_type": "stream",
     "text": [
      "[{'id': '10484',\n",
      "  'resultados': [{'classificacoes': [{'categoria': {'47952': 'Total'},\n",
      "                                      'id': '454',\n",
      "                                      'nome': 'Grupos taxonômicos, hábito ou '\n",
      "                                              'forma de vida'},\n",
      "                                     {'categoria': {'48243': 'Total'},\n",
      "                                      'id': '919',\n",
      "                                      'nome': 'Tipo de ambiente'},\n",
      "                                     {'categoria': {'48254': 'Total'},\n",
      "                                      'id': '920',\n",
      "                                      'nome': 'Biomas, mar e ilhas oceânicas'},\n",
      "                                     {'categoria': {'119363': 'Total'},\n",
      "                                      'id': '12920',\n",
      "                                      'nome': 'Categorias de risco'}],\n",
      "                  'series': [{'localidade': {'id': '1',\n",
      "                                             'nivel': {'id': 'N1',\n",
      "                                                       'nome': 'Brasil'},\n",
      "                                             'nome': 'Brasil'},\n",
      "                              'serie': {'2014': '16645'}}]}],\n",
      "  'unidade': 'Unidades',\n",
      "  'variavel': 'Número de espécies da fauna e da flora brasileira avaliadas '\n",
      "              'quanto ao risco de extinção'}]\n"
     ]
    }
   ],
   "source": [
    "import requests\n",
    "import pprint\n",
    "\n",
    "link = \"https://servicodados.ibge.gov.br/api/v3/agregados/7392/periodos/2014/variaveis/10484?localidades=N1[all]\"\n",
    "\n",
    "requisicao = requests.get(link)\n",
    "informacoes = requisicao.json()\n",
    "pprint.pprint(informacoes)"
   ]
  },
  {
   "cell_type": "code",
   "execution_count": 11,
   "id": "5d0aecc0",
   "metadata": {},
   "outputs": [
    {
     "name": "stdout",
     "output_type": "stream",
     "text": [
      "[{'localidade': {'id': '1',\n",
      "                 'nivel': {'id': 'N1', 'nome': 'Brasil'},\n",
      "                 'nome': 'Brasil'},\n",
      "  'serie': {'2014': '16645'}}]\n"
     ]
    }
   ],
   "source": [
    "pprint.pprint(informacoes[0]['resultados'][0]['series'])\n",
    "item_busca = informacoes[0]['variavel']\n",
    "resultados = informacoes[0]['resultados'][0]['series']"
   ]
  },
  {
   "cell_type": "code",
   "execution_count": 12,
   "id": "670b08a3",
   "metadata": {},
   "outputs": [
    {
     "name": "stdout",
     "output_type": "stream",
     "text": [
      "('Número de espécies da fauna e da flora brasileira avaliadas quanto ao risco '\n",
      " 'de extinção')\n",
      "[{'localidade': {'id': '1',\n",
      "                 'nivel': {'id': 'N1', 'nome': 'Brasil'},\n",
      "                 'nome': 'Brasil'},\n",
      "  'serie': {'2014': '16645'}}]\n"
     ]
    }
   ],
   "source": [
    "pprint.pprint(item_busca)\n",
    "pprint.pprint(resultados)"
   ]
  }
 ],
 "metadata": {
  "kernelspec": {
   "display_name": "Python 3 (ipykernel)",
   "language": "python",
   "name": "python3"
  },
  "language_info": {
   "codemirror_mode": {
    "name": "ipython",
    "version": 3
   },
   "file_extension": ".py",
   "mimetype": "text/x-python",
   "name": "python",
   "nbconvert_exporter": "python",
   "pygments_lexer": "ipython3",
   "version": "3.11.3"
  }
 },
 "nbformat": 4,
 "nbformat_minor": 5
}
