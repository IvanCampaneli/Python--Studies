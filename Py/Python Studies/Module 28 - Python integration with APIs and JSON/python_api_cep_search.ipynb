{
 "cells": [
  {
   "attachments": {},
   "cell_type": "markdown",
   "id": "7e57525e",
   "metadata": {},
   "source": [
    "#### Via CEP\n",
    "\n",
    "https://viacep.com.br/"
   ]
  },
  {
   "attachments": {},
   "cell_type": "markdown",
   "id": "84f1d631",
   "metadata": {},
   "source": [
    "### Desafio: Consulta de informações de um CEP"
   ]
  },
  {
   "cell_type": "code",
   "execution_count": 3,
   "id": "fe813e51",
   "metadata": {},
   "outputs": [
    {
     "name": "stdout",
     "output_type": "stream",
     "text": [
      "<Response [200]>\n",
      "{'cep': '17054-183', 'logradouro': 'Rua Lauro Bueno', 'complemento': '', 'bairro': 'Jardim Terra Branca', 'localidade': 'Bauru', 'uf': 'SP', 'ibge': '3506003', 'gia': '2094', 'ddd': '14', 'siafi': '6219'}\n"
     ]
    }
   ],
   "source": [
    "import requests\n",
    "\n",
    "cep = \"17054-183\"\n",
    "\n",
    "cep = cep.replace(\"-\", \"\").replace(\".\", \"\").replace(\" \", \"\")\n",
    "\n",
    "if len(cep) == 8:\n",
    "    link = f'https://viacep.com.br/ws/{cep}/json/'\n",
    "    requisicao = requests.get(link)\n",
    "    print(requisicao)\n",
    "\n",
    "    dic_requisicao = requisicao.json()\n",
    "    uf = dic_requisicao['uf']\n",
    "    cidade = dic_requisicao['localidade']\n",
    "    bairro = dic_requisicao['bairro']\n",
    "    print(dic_requisicao)\n",
    "else:\n",
    "    print(\"CEP Inválido\")"
   ]
  },
  {
   "attachments": {},
   "cell_type": "markdown",
   "id": "0abd6940",
   "metadata": {},
   "source": [
    "#### Busca de CEP a partir de endereço"
   ]
  },
  {
   "cell_type": "code",
   "execution_count": 4,
   "id": "901212ef",
   "metadata": {},
   "outputs": [
    {
     "name": "stdout",
     "output_type": "stream",
     "text": [
      "<Response [200]>\n",
      "[{'cep': '17054-183', 'logradouro': 'Rua Lauro Bueno', 'complemento': '', 'bairro': 'Jardim Terra Branca', 'localidade': 'Bauru', 'uf': 'SP', 'ibge': '3506003', 'gia': '2094', 'ddd': '14', 'siafi': '6219'}]\n"
     ]
    }
   ],
   "source": [
    "uf = \"SP\"\n",
    "localidade = \"Bauru\"\n",
    "logradouro = \"Rua Lauro Bueno\"\n",
    "\n",
    "link = f'https://viacep.com.br/ws/{uf}/{localidade}/{logradouro}/json/'\n",
    "\n",
    "requisicao = requests.get(link)\n",
    "print(requisicao)\n",
    "\n",
    "dic_requisicao = requisicao.json()\n",
    "print(dic_requisicao)"
   ]
  },
  {
   "cell_type": "code",
   "execution_count": 5,
   "id": "563b0701",
   "metadata": {},
   "outputs": [
    {
     "data": {
      "text/html": [
       "<div>\n",
       "<style scoped>\n",
       "    .dataframe tbody tr th:only-of-type {\n",
       "        vertical-align: middle;\n",
       "    }\n",
       "\n",
       "    .dataframe tbody tr th {\n",
       "        vertical-align: top;\n",
       "    }\n",
       "\n",
       "    .dataframe thead th {\n",
       "        text-align: right;\n",
       "    }\n",
       "</style>\n",
       "<table border=\"1\" class=\"dataframe\">\n",
       "  <thead>\n",
       "    <tr style=\"text-align: right;\">\n",
       "      <th></th>\n",
       "      <th>cep</th>\n",
       "      <th>logradouro</th>\n",
       "      <th>complemento</th>\n",
       "      <th>bairro</th>\n",
       "      <th>localidade</th>\n",
       "      <th>uf</th>\n",
       "      <th>ibge</th>\n",
       "      <th>gia</th>\n",
       "      <th>ddd</th>\n",
       "      <th>siafi</th>\n",
       "    </tr>\n",
       "  </thead>\n",
       "  <tbody>\n",
       "    <tr>\n",
       "      <th>0</th>\n",
       "      <td>17054-183</td>\n",
       "      <td>Rua Lauro Bueno</td>\n",
       "      <td></td>\n",
       "      <td>Jardim Terra Branca</td>\n",
       "      <td>Bauru</td>\n",
       "      <td>SP</td>\n",
       "      <td>3506003</td>\n",
       "      <td>2094</td>\n",
       "      <td>14</td>\n",
       "      <td>6219</td>\n",
       "    </tr>\n",
       "  </tbody>\n",
       "</table>\n",
       "</div>"
      ],
      "text/plain": [
       "         cep       logradouro complemento               bairro localidade  uf   \n",
       "0  17054-183  Rua Lauro Bueno              Jardim Terra Branca      Bauru  SP  \\\n",
       "\n",
       "      ibge   gia ddd siafi  \n",
       "0  3506003  2094  14  6219  "
      ]
     },
     "metadata": {},
     "output_type": "display_data"
    }
   ],
   "source": [
    "import pandas as pd\n",
    "\n",
    "tabela = pd.DataFrame(dic_requisicao)\n",
    "display(tabela)"
   ]
  }
 ],
 "metadata": {
  "kernelspec": {
   "display_name": "Python 3 (ipykernel)",
   "language": "python",
   "name": "python3"
  },
  "language_info": {
   "codemirror_mode": {
    "name": "ipython",
    "version": 3
   },
   "file_extension": ".py",
   "mimetype": "text/x-python",
   "name": "python",
   "nbconvert_exporter": "python",
   "pygments_lexer": "ipython3",
   "version": "3.11.3"
  }
 },
 "nbformat": 4,
 "nbformat_minor": 5
}
