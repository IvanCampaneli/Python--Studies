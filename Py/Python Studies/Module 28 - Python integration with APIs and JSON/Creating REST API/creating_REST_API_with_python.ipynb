{
 "cells": [
  {
   "attachments": {},
   "cell_type": "markdown",
   "id": "0baaa13b",
   "metadata": {},
   "source": [
    "### Consumir dados de uma API"
   ]
  },
  {
   "cell_type": "code",
   "execution_count": 1,
   "id": "dbdd6973",
   "metadata": {},
   "outputs": [
    {
     "name": "stdout",
     "output_type": "stream",
     "text": [
      "{'BTCBRL': {'ask': '142678',\n",
      "            'bid': '142678',\n",
      "            'code': 'BTC',\n",
      "            'codein': 'BRL',\n",
      "            'create_date': '2023-08-05 19:56:42',\n",
      "            'high': '142898',\n",
      "            'low': '142278',\n",
      "            'name': 'Bitcoin/Real Brasileiro',\n",
      "            'pctChange': '0.28',\n",
      "            'timestamp': '1691276202',\n",
      "            'varBid': '400'},\n",
      " 'EURBRL': {'ask': '5.3687',\n",
      "            'bid': '5.3607',\n",
      "            'code': 'EUR',\n",
      "            'codein': 'BRL',\n",
      "            'create_date': '2023-08-04 17:59:28',\n",
      "            'high': '5.3877',\n",
      "            'low': '5.262',\n",
      "            'name': 'Euro/Real Brasileiro',\n",
      "            'pctChange': '0.07',\n",
      "            'timestamp': '1691182768',\n",
      "            'varBid': '0.0036'},\n",
      " 'USDBRL': {'ask': '4.8743',\n",
      "            'bid': '4.8738',\n",
      "            'code': 'USD',\n",
      "            'codein': 'BRL',\n",
      "            'create_date': '2023-08-04 17:59:52',\n",
      "            'high': '4.9186',\n",
      "            'low': '4.846',\n",
      "            'name': 'Dólar Americano/Real Brasileiro',\n",
      "            'pctChange': '-0.87',\n",
      "            'timestamp': '1691182792',\n",
      "            'varBid': '-0.0429'}}\n"
     ]
    }
   ],
   "source": [
    "import requests\n",
    "import pprint\n",
    "\n",
    "link = \"https://economia.awesomeapi.com.br/last/USD-BRL,EUR-BRL,BTC-BRL\"\n",
    "requisicao = requests.get(link)\n",
    "\n",
    "pprint.pprint(requisicao.json())"
   ]
  },
  {
   "attachments": {},
   "cell_type": "markdown",
   "id": "fb303b0c",
   "metadata": {},
   "source": [
    "### Desafio: Criar uma API com Flask"
   ]
  },
  {
   "cell_type": "code",
   "execution_count": 2,
   "id": "13f8e5d1",
   "metadata": {},
   "outputs": [
    {
     "name": "stdout",
     "output_type": "stream",
     "text": [
      " * Serving Flask app '__main__'\n",
      " * Debug mode: off\n"
     ]
    },
    {
     "name": "stderr",
     "output_type": "stream",
     "text": [
      "WARNING: This is a development server. Do not use it in a production deployment. Use a production WSGI server instead.\n",
      " * Running on http://127.0.0.1:5000\n",
      "Press CTRL+C to quit\n",
      "127.0.0.1 - - [05/Aug/2023 19:57:43] \"GET / HTTP/1.1\" 200 -\n",
      "127.0.0.1 - - [05/Aug/2023 19:57:43] \"GET /favicon.ico HTTP/1.1\" 404 -\n"
     ]
    }
   ],
   "source": [
    "from flask import Flask\n",
    "import pandas as pd\n",
    "\n",
    "app = Flask(__name__) # cria o site\n",
    "tabela = pd.read_excel(\"Vendas - Dez.xlsx\")\n",
    "\n",
    "@app.route(\"/\") # decorator -> diz em qual link a função vai rodar\n",
    "def fat(): # função\n",
    "    faturamento = float(tabela[\"Valor Final\"].sum())\n",
    "    return {\"faturamento\": faturamento}\n",
    "\n",
    "@app.route(\"/vendas/produtos\") \n",
    "def vendas_produtos(): \n",
    "    tabela_vendas_produtos = tabela[[\"Produto\", \"Valor Final\"]].groupby(\"Produto\").sum()\n",
    "    dic_vendas_produtos = tabela_vendas_produtos.to_dict()\n",
    "    return dic_vendas_produtos\n",
    "\n",
    "@app.route(\"/vendas/produtos/<produto>\") \n",
    "def fat_produto(produto): \n",
    "    tabela_vendas_produtos = tabela[[\"Produto\", \"Valor Final\"]].groupby(\"Produto\").sum()\n",
    "    if produto in tabela_vendas_produtos.index:\n",
    "        vendas_produto = tabela_vendas_produtos.loc[produto]\n",
    "        dic_vendas_produto = vendas_produto.to_dict()\n",
    "        return dic_vendas_produto\n",
    "    else:\n",
    "        return {produto: \"Inexistente\"}\n",
    "    \n",
    "app.run() # no replit use app.run(host=\"0.0.0.0\") # coloca o site no ar"
   ]
  }
 ],
 "metadata": {
  "kernelspec": {
   "display_name": "Python 3",
   "language": "python",
   "name": "python3"
  },
  "language_info": {
   "codemirror_mode": {
    "name": "ipython",
    "version": 3
   },
   "file_extension": ".py",
   "mimetype": "text/x-python",
   "name": "python",
   "nbconvert_exporter": "python",
   "pygments_lexer": "ipython3",
   "version": "3.11.3"
  }
 },
 "nbformat": 4,
 "nbformat_minor": 5
}
