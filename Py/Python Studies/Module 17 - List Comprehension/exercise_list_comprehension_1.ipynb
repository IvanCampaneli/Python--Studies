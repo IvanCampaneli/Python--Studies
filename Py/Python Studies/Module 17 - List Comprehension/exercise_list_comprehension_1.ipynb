{
 "cells": [
  {
   "attachments": {},
   "cell_type": "markdown",
   "metadata": {},
   "source": [
    "# Exercícios\n",
    "\n",
    "## 1. Tirando informações de listas e dicionários\n",
    "\n",
    "Digamos que você está analisando as vendas de produtos de uma empresa de varejo.\n",
    "\n",
    "Essa lista tem: (produto, vendas de 2019, vendas de 2020) para cada produto.\n",
    "\n",
    "Crie uma lista com as vendas de 2019."
   ]
  },
  {
   "cell_type": "code",
   "execution_count": 29,
   "metadata": {},
   "outputs": [],
   "source": [
    "vendas_produtos = [\n",
    "    ('iphone', 558147, 951642),\n",
    "    ('galaxy', 712350, 244295), \n",
    "    ('ipad', 573823, 26964), \n",
    "    ('tv', 405252, 787604), \n",
    "    ('máquina de café', 718654, 867660), \n",
    "    ('kindle', 531580, 78830), \n",
    "    ('geladeira', 973139, 710331), \n",
    "    ('adega', 892292, 646016), \n",
    "    ('notebook dell', 422760, 694913), \n",
    "    ('notebook hp', 154753, 539704), \n",
    "    ('notebook asus', 887061, 324831), \n",
    "    ('microsoft surface', 438508, 667179), \n",
    "    ('webcam', 237467, 295633), \n",
    "    ('caixa de som', 489705, 725316), \n",
    "    ('microfone', 328311, 644622), \n",
    "    ('câmera canon', 591120, 994303)\n",
    "    ]"
   ]
  },
  {
   "attachments": {},
   "cell_type": "markdown",
   "metadata": {},
   "source": [
    "- Agora, qual o maior valor de vendas de 2019?"
   ]
  },
  {
   "cell_type": "code",
   "execution_count": 36,
   "metadata": {},
   "outputs": [
    {
     "name": "stdout",
     "output_type": "stream",
     "text": [
      "Quantidade de itens de 2019: 16\n",
      "Maior valor de 2019: 973139\n",
      "======================== LIST COMPREHENSION ========================\n",
      "Itens de 2019: [558147, 712350, 573823, 405252, 718654, 531580, 973139, 892292, 422760, 154753, 887061, 438508, 237467, 489705, 328311, 591120]\n",
      "Maior valor de 2019: 973139\n"
     ]
    }
   ],
   "source": [
    "maior_valor = []\n",
    "\n",
    "for item, vendas2019, vendas2020 in vendas_produtos:\n",
    "    maior_valor.append(vendas2019)\n",
    "\n",
    "print(f'Quantidade de itens de 2019: {len(maior_valor)}')\n",
    "print(f'Maior valor de 2019: {max(maior_valor)}')\n",
    "\n",
    "print('======================== LIST COMPREHENSION ========================')\n",
    "\n",
    "maior_valor = [vendas2019 for item, vendas2019, vendas2020 in vendas_produtos]\n",
    "print(f'Itens de 2019: {maior_valor}')\n",
    "print(f'Maior valor de 2019: {max(maior_valor)}')\n",
    "\n",
    "\n",
    "#maior_valor = [vendas2019 for item, vendas2019, vendas2020 in vendas_produtos]\n",
    "#print(maior_valor)"
   ]
  },
  {
   "attachments": {},
   "cell_type": "markdown",
   "metadata": {},
   "source": [
    "- E se eu quisesse descobrir o produto que mais vendeu em 2019?\n",
    "Temos 2 formas de fazer, refazendo o list comprehension ou consultando a lista original"
   ]
  },
  {
   "cell_type": "code",
   "execution_count": 37,
   "metadata": {},
   "outputs": [
    {
     "name": "stdout",
     "output_type": "stream",
     "text": [
      "(973139, 'geladeira')\n"
     ]
    }
   ],
   "source": [
    "maior_valor = [(vendas2019, item) for item, vendas2019, vendas2020 in vendas_produtos]\n",
    "'''vendas2019 foi chamada antes do item, pq ai ele chamaria a ordem alfabética mais distante\n",
    " e iria alterar a ordem correta do produto mais vendido'''\n",
    "print(max(maior_valor))"
   ]
  }
 ],
 "metadata": {
  "kernelspec": {
   "display_name": "Python 3",
   "language": "python",
   "name": "python3"
  },
  "language_info": {
   "codemirror_mode": {
    "name": "ipython",
    "version": 3
   },
   "file_extension": ".py",
   "mimetype": "text/x-python",
   "name": "python",
   "nbconvert_exporter": "python",
   "pygments_lexer": "ipython3",
   "version": "3.11.3"
  }
 },
 "nbformat": 4,
 "nbformat_minor": 4
}
